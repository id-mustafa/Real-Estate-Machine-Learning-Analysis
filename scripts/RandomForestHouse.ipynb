{
 "cells": [
  {
   "cell_type": "markdown",
   "metadata": {},
   "source": [
    "# Random Forest Project"
   ]
  },
  {
   "cell_type": "code",
   "execution_count": null,
   "metadata": {},
   "outputs": [],
   "source": [
    "from dotenv import load_dotenv\n",
    "import pandas as pd\n",
    "import os, sys\n",
    "from sqlmodel import SQLModel, Field, Column, String, Float, Integer\n",
    "from sklearn.ensemble import RandomForestClassifier\n",
    "from sklearn.model_selection import train_test_split\n",
    "from sklearn.datasets import load_iris\n",
    "from sklearn.metrics import accuracy_score\n",
    "sys.path.append(os.path.abspath(os.path.join(os.getcwd(), \"..\")))\n",
    "from db import db_session\n",
    "from typing import Optional\n",
    "\n",
    "load_dotenv()\n",
    "\n",
    "db_url = os.getenv(\"DATABASE_URL\")"
   ]
  },
  {
   "cell_type": "code",
   "execution_count": null,
   "metadata": {},
   "outputs": [],
   "source": [
    "\"\"\"\n",
    "Need to create a df from the tables that we have in supabase.\n",
    "- One on Housing Data\n",
    "- The other on Housing Data 2\n",
    "\n",
    "First thing is to create a service class to work with the data.\n",
    "\"\"\"\n",
    "# models.py\n",
    "from sqlmodel import SQLModel, Field, Column, String, Float, Integer\n",
    "\n",
    "class House(SQLModel, table=True):\n",
    "    __tablename__ = \"House\"   # match exactly your Supabase table name\n",
    "\n",
    "    # since your Supabase columns have spaces & % signs,\n",
    "    # we map them via sa_column.  Feel free to rename the\n",
    "    # Python attrs to something more PEP8‑ish if you like.\n",
    "    state:   str    = Field(sa_column=Column(\"State\",   String), primary_key=True)\n",
    "    city:    str    = Field(sa_column=Column(\"City\",    String))\n",
    "    Bedroom: float  = Field(sa_column=Column(\"Bedroom\", Float))\n",
    "    Bathroom: float = Field(sa_column=Column(\"Bathroom\",Float))\n",
    "    Area:    float  = Field(sa_column=Column(\"Area\",    Float))\n",
    "    listed_price: float = Field(sa_column=Column(\"ListedPrice\", Float))\n",
    "    temperature: str   = Field(sa_column=Column(\"Temperature\", String))\n",
    "    population: float = Field(sa_column=Column(\"2022 Population\", Float))\n",
    "    crime_rate: float = Field(sa_column=Column(\"2016 Crime Rate\", Float))\n",
    "    unemployment:     float = Field(sa_column=Column(\"Unemployment\", Float))\n",
    "    good_aqi: float = Field(sa_column=Column(\"AQI%Good\", Float))\n",
    "    water_quality_vpv: float = Field(sa_column=Column(\"WaterQualityVPV\", Float))\n",
    "    cost_of_living: float = Field(sa_column=Column(\"Cost of Living\", Float))\n",
    "    avg_c2i: float = Field(sa_column=Column(\"AVG C2I\", Float))\n",
    "    mean_income: float = Field(sa_column=Column(\"MeanIncome\", Float))\n",
    "    quality_of_life_total_score: float = Field(\n",
    "        sa_column=Column(\"QualityOfLifeTotalScore\", Float)\n",
    "    )\n",
    "    quality_of_life_quality:     Optional[int] = Field(\n",
    "        sa_column=Column(\"QualityOfLifeQualityOfLife\", Integer)\n",
    "    )\n",
    "    quality_of_life_affordability: Optional[int] = Field(\n",
    "        sa_column=Column(\"QualityOfLifeAffordability\", Integer)\n",
    "    )\n",
    "    quality_of_life_economy:       Optional[int] = Field(\n",
    "        sa_column=Column(\"QualityOfLifeEconomy\", Integer)\n",
    "    )\n",
    "    quality_of_life_education_and_health:     Optional[int] = Field(\n",
    "        sa_column=Column(\"QualityOfLifeEducationAndHealth\", Integer)\n",
    "    )\n",
    "    quality_of_life_safety:        Optional[int] = Field(\n",
    "        sa_column=Column(\"QualityOfLifeSafety\", Integer)\n",
    "    )\n",
    "\n",
    "\n",
    "class HousingData2(SQLModel, table=True):\n",
    "    __tablename__ = \"Housing Data 2\"\n",
    "    state: str = Field(sa_column=Column(\"State\", String), primary_key=True)\n",
    "    city: str = Field(sa_column=Column(\"City\",  String))\n",
    "    bedroom: float = Field(sa_column=Column(\"Bedroom\", Float))\n",
    "    bathroom: float = Field(sa_column=Column(\"Bathroom\",Float))\n",
    "    area: float = Field(sa_column=Column(\"Area\", Float))\n",
    "    lot_area: float = Field(sa_column=Column(\"LotArea\", Float))\n",
    "    price: float = Field(sa_column=Column(\"Price\", Float))\n",
    "    temperature: int = Field(sa_column=Column(\"Temperature\", Integer))\n",
    "    crime_rate: float = Field(sa_column=Column(\"2016 Crime Rate\", Float))\n",
    "    unemployment: float = Field(sa_column=Column(\"Unemployment\", Float))\n",
    "    aqi_good: float = Field(sa_column=Column(\"AQI%Good\", Float))\n",
    "    water_quality_vpv: float = Field(sa_column=Column(\"WaterQualityVPV\", Float))\n",
    "    cost_of_living: float = Field(sa_column=Column(\"Cost of Living\",     Float))\n",
    "    median_income_2022: float = Field(sa_column=Column(\"2022 Median Income\",Float))\n",
    "    population: float = Field(sa_column=Column(\"Population\",         Float))\n"
   ]
  },
  {
   "cell_type": "code",
   "execution_count": null,
   "metadata": {},
   "outputs": [],
   "source": [
    "# Define user inputs here\n",
    "user_desired_home_price = input(\"What is your target home price?\")\n",
    "user_income = input(\"What is your income?\")\n",
    "user_beds = input(\"How many bedrooms would you like your home to have?\")\n",
    "user_baths = input(\"How many bathrooms would you like your home to have?\")\n",
    "user_baths = input(\"Would you like to live in a ?\")"
   ]
  }
 ],
 "metadata": {
  "kernelspec": {
   "display_name": "base",
   "language": "python",
   "name": "python3"
  },
  "language_info": {
   "codemirror_mode": {
    "name": "ipython",
    "version": 3
   },
   "file_extension": ".py",
   "mimetype": "text/x-python",
   "name": "python",
   "nbconvert_exporter": "python",
   "pygments_lexer": "ipython3",
   "version": "3.12.8"
  }
 },
 "nbformat": 4,
 "nbformat_minor": 2
}
